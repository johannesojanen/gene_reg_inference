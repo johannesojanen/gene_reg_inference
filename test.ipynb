{
 "cells": [
  {
   "metadata": {
    "ExecuteTime": {
     "end_time": "2024-12-15T16:37:45.367248Z",
     "start_time": "2024-12-15T16:37:45.301352Z"
    }
   },
   "cell_type": "code",
   "source": [
    "#reload modules\n",
    "%load_ext autoreload\n",
    "%autoreload 2"
   ],
   "id": "e039c6595a5b4928",
   "outputs": [
    {
     "name": "stdout",
     "output_type": "stream",
     "text": [
      "The autoreload extension is already loaded. To reload it, use:\n",
      "  %reload_ext autoreload\n"
     ]
    }
   ],
   "execution_count": 9
  },
  {
   "metadata": {
    "ExecuteTime": {
     "end_time": "2024-12-15T16:39:10.991814Z",
     "start_time": "2024-12-15T16:39:10.872770Z"
    }
   },
   "cell_type": "code",
   "source": [
    "# disable warnings\n",
    "import warnings\n",
    "warnings.filterwarnings('ignore')\n",
    "\n",
    "from data import time_data, true_structure\n",
    "from models import *\n",
    "from evaluate_model import evaluate_model\n",
    "\n",
    "genes = ['CBF1', 'GAL4', 'SWI5', 'GAL80', 'ASH1']\n",
    "\n",
    "model = DynamicBayesianNetworkModel(genes)\n",
    "model.fit(time_data)\n",
    "\n",
    "evaluate_model(model, true_structure, above=True, below=False)"
   ],
   "id": "3ceba82da1fcd6c1",
   "outputs": [
    {
     "name": "stdout",
     "output_type": "stream",
     "text": [
      "True Structure:\n"
     ]
    },
    {
     "data": {
      "text/plain": [
       "       CBF1  GAL4  SWI5  GAL80  ASH1\n",
       "CBF1      0     0     1      0     1\n",
       "GAL4      1     0     0      0     0\n",
       "SWI5      0     1     0      0     0\n",
       "GAL80     0     0     1      0     0\n",
       "ASH1      0     0     1      0     0"
      ],
      "text/html": [
       "<div>\n",
       "<style scoped>\n",
       "    .dataframe tbody tr th:only-of-type {\n",
       "        vertical-align: middle;\n",
       "    }\n",
       "\n",
       "    .dataframe tbody tr th {\n",
       "        vertical-align: top;\n",
       "    }\n",
       "\n",
       "    .dataframe thead th {\n",
       "        text-align: right;\n",
       "    }\n",
       "</style>\n",
       "<table border=\"1\" class=\"dataframe\">\n",
       "  <thead>\n",
       "    <tr style=\"text-align: right;\">\n",
       "      <th></th>\n",
       "      <th>CBF1</th>\n",
       "      <th>GAL4</th>\n",
       "      <th>SWI5</th>\n",
       "      <th>GAL80</th>\n",
       "      <th>ASH1</th>\n",
       "    </tr>\n",
       "  </thead>\n",
       "  <tbody>\n",
       "    <tr>\n",
       "      <th>CBF1</th>\n",
       "      <td>0</td>\n",
       "      <td>0</td>\n",
       "      <td>1</td>\n",
       "      <td>0</td>\n",
       "      <td>1</td>\n",
       "    </tr>\n",
       "    <tr>\n",
       "      <th>GAL4</th>\n",
       "      <td>1</td>\n",
       "      <td>0</td>\n",
       "      <td>0</td>\n",
       "      <td>0</td>\n",
       "      <td>0</td>\n",
       "    </tr>\n",
       "    <tr>\n",
       "      <th>SWI5</th>\n",
       "      <td>0</td>\n",
       "      <td>1</td>\n",
       "      <td>0</td>\n",
       "      <td>0</td>\n",
       "      <td>0</td>\n",
       "    </tr>\n",
       "    <tr>\n",
       "      <th>GAL80</th>\n",
       "      <td>0</td>\n",
       "      <td>0</td>\n",
       "      <td>1</td>\n",
       "      <td>0</td>\n",
       "      <td>0</td>\n",
       "    </tr>\n",
       "    <tr>\n",
       "      <th>ASH1</th>\n",
       "      <td>0</td>\n",
       "      <td>0</td>\n",
       "      <td>1</td>\n",
       "      <td>0</td>\n",
       "      <td>0</td>\n",
       "    </tr>\n",
       "  </tbody>\n",
       "</table>\n",
       "</div>"
      ]
     },
     "metadata": {},
     "output_type": "display_data"
    },
    {
     "name": "stdout",
     "output_type": "stream",
     "text": [
      "Inferred Score Matrix:\n"
     ]
    },
    {
     "data": {
      "text/plain": [
       "           CBF1      GAL4      SWI5     GAL80      ASH1\n",
       "CBF1   0.000000  0.081268  1.228753  0.369195  1.020412\n",
       "GAL4   0.446391  0.000000  0.028947  0.800172  0.105997\n",
       "SWI5   0.615619  0.525692  0.000000  1.156709  0.710487\n",
       "GAL80  0.119550  0.073412  0.145025  0.000000  0.482360\n",
       "ASH1   0.258464  0.810935  0.375308  1.552240  0.000000"
      ],
      "text/html": [
       "<div>\n",
       "<style scoped>\n",
       "    .dataframe tbody tr th:only-of-type {\n",
       "        vertical-align: middle;\n",
       "    }\n",
       "\n",
       "    .dataframe tbody tr th {\n",
       "        vertical-align: top;\n",
       "    }\n",
       "\n",
       "    .dataframe thead th {\n",
       "        text-align: right;\n",
       "    }\n",
       "</style>\n",
       "<table border=\"1\" class=\"dataframe\">\n",
       "  <thead>\n",
       "    <tr style=\"text-align: right;\">\n",
       "      <th></th>\n",
       "      <th>CBF1</th>\n",
       "      <th>GAL4</th>\n",
       "      <th>SWI5</th>\n",
       "      <th>GAL80</th>\n",
       "      <th>ASH1</th>\n",
       "    </tr>\n",
       "  </thead>\n",
       "  <tbody>\n",
       "    <tr>\n",
       "      <th>CBF1</th>\n",
       "      <td>0.000000</td>\n",
       "      <td>0.081268</td>\n",
       "      <td>1.228753</td>\n",
       "      <td>0.369195</td>\n",
       "      <td>1.020412</td>\n",
       "    </tr>\n",
       "    <tr>\n",
       "      <th>GAL4</th>\n",
       "      <td>0.446391</td>\n",
       "      <td>0.000000</td>\n",
       "      <td>0.028947</td>\n",
       "      <td>0.800172</td>\n",
       "      <td>0.105997</td>\n",
       "    </tr>\n",
       "    <tr>\n",
       "      <th>SWI5</th>\n",
       "      <td>0.615619</td>\n",
       "      <td>0.525692</td>\n",
       "      <td>0.000000</td>\n",
       "      <td>1.156709</td>\n",
       "      <td>0.710487</td>\n",
       "    </tr>\n",
       "    <tr>\n",
       "      <th>GAL80</th>\n",
       "      <td>0.119550</td>\n",
       "      <td>0.073412</td>\n",
       "      <td>0.145025</td>\n",
       "      <td>0.000000</td>\n",
       "      <td>0.482360</td>\n",
       "    </tr>\n",
       "    <tr>\n",
       "      <th>ASH1</th>\n",
       "      <td>0.258464</td>\n",
       "      <td>0.810935</td>\n",
       "      <td>0.375308</td>\n",
       "      <td>1.552240</td>\n",
       "      <td>0.000000</td>\n",
       "    </tr>\n",
       "  </tbody>\n",
       "</table>\n",
       "</div>"
      ]
     },
     "metadata": {},
     "output_type": "display_data"
    },
    {
     "data": {
      "text/plain": [
       "<Figure size 600x600 with 1 Axes>"
      ],
      "image/png": "[encoded data removed]"
     },
     "metadata": {},
     "output_type": "display_data"
    },
    {
     "name": "stdout",
     "output_type": "stream",
     "text": [
      "Threshold for detecting all true interactions: 0.1254335490314312\n",
      "False positives at that threshold: 9.0\n",
      "Best Inferred Structure (Excluding Diagonals):\n"
     ]
    },
    {
     "data": {
      "text/plain": [
       "       CBF1  GAL4  SWI5  GAL80  ASH1\n",
       "CBF1      0     0     1      1     1\n",
       "GAL4      1     0     0      1     0\n",
       "SWI5      1     1     0      1     1\n",
       "GAL80     0     0     1      0     1\n",
       "ASH1      1     1     1      1     0"
      ],
      "text/html": [
       "<div>\n",
       "<style scoped>\n",
       "    .dataframe tbody tr th:only-of-type {\n",
       "        vertical-align: middle;\n",
       "    }\n",
       "\n",
       "    .dataframe tbody tr th {\n",
       "        vertical-align: top;\n",
       "    }\n",
       "\n",
       "    .dataframe thead th {\n",
       "        text-align: right;\n",
       "    }\n",
       "</style>\n",
       "<table border=\"1\" class=\"dataframe\">\n",
       "  <thead>\n",
       "    <tr style=\"text-align: right;\">\n",
       "      <th></th>\n",
       "      <th>CBF1</th>\n",
       "      <th>GAL4</th>\n",
       "      <th>SWI5</th>\n",
       "      <th>GAL80</th>\n",
       "      <th>ASH1</th>\n",
       "    </tr>\n",
       "  </thead>\n",
       "  <tbody>\n",
       "    <tr>\n",
       "      <th>CBF1</th>\n",
       "      <td>0</td>\n",
       "      <td>0</td>\n",
       "      <td>1</td>\n",
       "      <td>1</td>\n",
       "      <td>1</td>\n",
       "    </tr>\n",
       "    <tr>\n",
       "      <th>GAL4</th>\n",
       "      <td>1</td>\n",
       "      <td>0</td>\n",
       "      <td>0</td>\n",
       "      <td>1</td>\n",
       "      <td>0</td>\n",
       "    </tr>\n",
       "    <tr>\n",
       "      <th>SWI5</th>\n",
       "      <td>1</td>\n",
       "      <td>1</td>\n",
       "      <td>0</td>\n",
       "      <td>1</td>\n",
       "      <td>1</td>\n",
       "    </tr>\n",
       "    <tr>\n",
       "      <th>GAL80</th>\n",
       "      <td>0</td>\n",
       "      <td>0</td>\n",
       "      <td>1</td>\n",
       "      <td>0</td>\n",
       "      <td>1</td>\n",
       "    </tr>\n",
       "    <tr>\n",
       "      <th>ASH1</th>\n",
       "      <td>1</td>\n",
       "      <td>1</td>\n",
       "      <td>1</td>\n",
       "      <td>1</td>\n",
       "      <td>0</td>\n",
       "    </tr>\n",
       "  </tbody>\n",
       "</table>\n",
       "</div>"
      ]
     },
     "metadata": {},
     "output_type": "display_data"
    }
   ],
   "execution_count": 11
  },
  {
   "metadata": {},
   "cell_type": "code",
   "outputs": [],
   "execution_count": null,
   "source": "",
   "id": "43d2b6235dbab66a"
  }
 ],
 "metadata": {
  "kernelspec": {
   "display_name": "Python 3",
   "language": "python",
   "name": "python3"
  },
  "language_info": {
   "codemirror_mode": {
    "name": "ipython",
    "version": 2
   },
   "file_extension": ".py",
   "mimetype": "text/x-python",
   "name": "python",
   "nbconvert_exporter": "python",
   "pygments_lexer": "ipython2",
   "version": "2.7.6"
  }
 },
 "nbformat": 4,
 "nbformat_minor": 5
}
